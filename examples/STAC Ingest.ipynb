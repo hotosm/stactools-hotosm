{
 "cells": [
  {
   "cell_type": "markdown",
   "id": "1838b303-3db3-4ef6-bec6-b0777464853e",
   "metadata": {},
   "source": [
    "# STAC Ingestion"
   ]
  },
  {
   "cell_type": "markdown",
   "id": "5d74dd82-92b6-4a06-8fbf-e84de24233f1",
   "metadata": {},
   "source": [
    "## Ingest STAC via STAC API\n",
    "\n",
    "This section explores using the STAC API interfaces to ingest STAC Items using endpoints that implement the [\"transactions\" STAC API extension](https://github.com/stac-api-extensions/transaction).\n",
    "\n",
    "This section presumes you've started the notebook with a few environment variables defined for configuration settings,\n",
    "\n",
    "* `STAC_API_ROOT` is the URL to the root of your STAC API\n",
    "* Basic authorization details (optional)\n",
    "    * `STAC_API_USERNAME` is a user with permission to interact with the transaction endpoints\n",
    "    * `STAC_API_PASSWORD` is the password for the username"
   ]
  },
  {
   "cell_type": "code",
   "execution_count": 2,
   "id": "ed584bae-e794-43cb-bb25-eb4ac61f3bfb",
   "metadata": {},
   "outputs": [],
   "source": [
    "import json\n",
    "import os\n",
    "from itertools import batched\n",
    "from pathlib import Path\n",
    "from urllib.parse import urljoin\n",
    "\n",
    "import pystac\n",
    "import requests\n",
    "import rustac\n",
    "\n",
    "STAC_API_ROOT = os.environ[\"STAC_API_ROOT\"]\n",
    "if not STAC_API_ROOT.endswith(\"/\"):\n",
    "    STAC_API_ROOT += \"/\"\n",
    "\n",
    "session = requests.Session()\n",
    "\n",
    "if (username := os.getenv(\"STAC_API_USERNAME\")) and (\n",
    "    password := os.getenv(\"STAC_API_PASSWORD\")\n",
    "):\n",
    "    session.auth = (username, password)"
   ]
  },
  {
   "cell_type": "markdown",
   "id": "281417d9-9541-4d28-a579-525d1340e55d",
   "metadata": {},
   "source": [
    "First, we need to ensure that our STAC Collection has been created."
   ]
  },
  {
   "cell_type": "code",
   "execution_count": 3,
   "id": "06482788-c59f-48a0-9ca0-6481723d0931",
   "metadata": {},
   "outputs": [
    {
     "data": {
      "text/plain": [
       "[<Collection id=openaerialmap>, <Collection id=maxar-opendata>]"
      ]
     },
     "execution_count": 3,
     "metadata": {},
     "output_type": "execute_result"
    }
   ],
   "source": [
    "collections = [pystac.read_file(path) for path in Path(\".\").glob(\"*collection.json\")]\n",
    "collections"
   ]
  },
  {
   "cell_type": "code",
   "execution_count": 4,
   "id": "e3c5da93-9b5d-4fd4-b22d-08901dda6c5b",
   "metadata": {},
   "outputs": [
    {
     "name": "stdout",
     "output_type": "stream",
     "text": [
      "Created openaerialmap\n",
      "Created maxar-opendata\n"
     ]
    }
   ],
   "source": [
    "for collection in collections:\n",
    "    r = session.post(urljoin(STAC_API_ROOT, \"collections\"), json=collection.to_dict())\n",
    "    r.raise_for_status()\n",
    "    print(f\"Created {collection.id}\")"
   ]
  },
  {
   "cell_type": "markdown",
   "id": "ce6f1216-4ac6-4e63-a548-c98a45982d7f",
   "metadata": {},
   "source": [
    "To help handle cases where the same STAC Item has already been added to our STAC Catalog, we're going to use the \"bulk items\" endpoint to easily \"upsert\" (insert or update) our STAC Items."
   ]
  },
  {
   "cell_type": "code",
   "execution_count": 17,
   "id": "8af354a3-abfe-49fc-ad8d-0547d74680e3",
   "metadata": {},
   "outputs": [],
   "source": [
    "# this may need to be tuned depending on the API's maximum supported request size\n",
    "ITEM_CHUNKSIZE = 15"
   ]
  },
  {
   "cell_type": "code",
   "execution_count": 18,
   "id": "f1541389-8068-464d-ae8c-565faee9bbb7",
   "metadata": {},
   "outputs": [
    {
     "name": "stdout",
     "output_type": "stream",
     "text": [
      "Adding openaerialmap-20250512T180412.parquet to STAC Catalog\n",
      "Adding maxar-opendata-20250513T092240.parquet to STAC Catalog\n"
     ]
    }
   ],
   "source": [
    "for collection in collections:\n",
    "    item_paths = sorted(Path(\".\").glob(f\"{collection.id}*.parquet\"))\n",
    "    for item_path in item_paths:\n",
    "        print(f\"Adding {item_path} to STAC Catalog\")\n",
    "        item_collection = await rustac.read(str(item_path))\n",
    "        for items in batched(item_collection[\"features\"], ITEM_CHUNKSIZE):\n",
    "            items_by_id = {item[\"id\"]: item for item in items}\n",
    "            r = session.post(\n",
    "                urljoin(STAC_API_ROOT, f\"collections/{collection.id}/bulk_items\"),\n",
    "                json={\"method\": \"upsert\", \"items\": items_by_id},\n",
    "            )\n",
    "            r.raise_for_status()"
   ]
  },
  {
   "cell_type": "markdown",
   "id": "77121587-4f5a-4e0a-8c06-5109594e84d0",
   "metadata": {},
   "source": [
    "## Ingest STAC Into PgSTAC via pypgstac\n",
    "\n",
    "This section is an example of using `pypgstac` tools to load STAC Collections and Items produced from the other example notebooks into PgSTAC. Once in PgSTAC these data will be available through the STAC API.\n",
    "\n",
    "This notebook assumes you have defined some environment variables for the PgSTAC database connection. If they are not defined this notebook uses defaults from the [eoAPI](https://github.com/developmentseed/eoapi) Docker Compose setup.\n",
    "\n",
    "The environment variables expected are the [\"standard PG environment variables\"](https://github.com/stac-utils/pgstac/blob/v0.9.6/docs/src/pypgstac.md?plain=1#L42-L48) used by PgSTAC,\n",
    "\n",
    "* `PGHOST`\n",
    "* `PGPORT`\n",
    "* `PGUSER`\n",
    "* `PGDATABASE`\n",
    "* `PGPASSWORD`"
   ]
  },
  {
   "cell_type": "code",
   "execution_count": 1,
   "id": "c19751cc-e409-4175-99f5-e4631064dae4",
   "metadata": {},
   "outputs": [],
   "source": [
    "import os\n",
    "from pathlib import Path\n",
    "from typing import Iterator\n",
    "\n",
    "from pypgstac.db import PgstacDB\n",
    "from pypgstac.load import Loader, Methods"
   ]
  },
  {
   "cell_type": "code",
   "execution_count": 2,
   "id": "1251b701-03b4-43e6-8f9c-f6f71b3bad99",
   "metadata": {},
   "outputs": [],
   "source": [
    "dsn = \"postgresql://{username}:{password}@{host}:{port}/{database}\".format(\n",
    "    username=os.getenv(\"PGUSER\", \"username\"),\n",
    "    password=os.getenv(\"PGPASSWORD\", \"password\"),\n",
    "    host=os.getenv(\"PGHOST\", \"localhost\"),\n",
    "    port=os.getenv(\"PGPORT\", 5439),\n",
    "    database=os.getenv(\"PGDATABASE\", \"postgis\"),\n",
    ")"
   ]
  },
  {
   "cell_type": "code",
   "execution_count": 3,
   "id": "445c8b73-e5e1-4b15-a47c-83b2c1b4e941",
   "metadata": {},
   "outputs": [],
   "source": [
    "pgstac = PgstacDB(dsn)\n",
    "loader = Loader(pgstac)"
   ]
  },
  {
   "cell_type": "code",
   "execution_count": null,
   "id": "643e20b4-4714-4130-bbc1-4b863d6b0cfa",
   "metadata": {},
   "outputs": [],
   "source": [
    "def read_items_from_ndjson(\n",
    "    ndjson: Path,\n",
    "    collection_id: str,\n",
    ") -> Iterator[dict]:\n",
    "    \"\"\"Read STAC Items from a NDJSON file for a particular Collection.\"\"\"\n",
    "    with ndjson.open() as src:\n",
    "        for line in src:\n",
    "            item = json.loads(line)\n",
    "            item[\"collection\"] = collection_id\n",
    "            yield item"
   ]
  },
  {
   "cell_type": "markdown",
   "id": "82f48902-76cf-4292-93f0-3676baf350c5",
   "metadata": {},
   "source": [
    "## OpenAerialMap Collection"
   ]
  },
  {
   "cell_type": "code",
   "execution_count": 5,
   "id": "9db8003f-4b22-43cf-9c39-f6b0a1ac4b79",
   "metadata": {},
   "outputs": [],
   "source": [
    "loader.load_collections(\"openaerialmap-collection.json\", insert_mode=Methods.upsert)"
   ]
  },
  {
   "cell_type": "code",
   "execution_count": 27,
   "id": "3d292846-f0e3-4e20-b963-e814486a1167",
   "metadata": {},
   "outputs": [
    {
     "name": "stdout",
     "output_type": "stream",
     "text": [
      "Loading Items from openaerialmap-20250501T142120.ndjson\n",
      "Loading Items from openaerialmap-20250506T175956.ndjson\n",
      "Loading Items from openaerialmap-20250506T181630.ndjson\n"
     ]
    }
   ],
   "source": [
    "oam_ndjson_files = sorted(Path(\".\").glob(\"openaerialmap-*.ndjson\"))\n",
    "\n",
    "for oam_ndjson in oam_ndjson_files:\n",
    "    print(f\"Loading Items from {oam_ndjson}\")\n",
    "    loader.load_items(\n",
    "        read_items_from_ndjson(oam_ndjson, \"openaerialmap\"),\n",
    "        insert_mode=Methods.insert_ignore,\n",
    "    )"
   ]
  },
  {
   "cell_type": "markdown",
   "id": "7d242ba8-c124-43e0-a45e-14ca2e9a2dca",
   "metadata": {},
   "source": [
    "## Maxar for OAM Collection"
   ]
  },
  {
   "cell_type": "code",
   "execution_count": 7,
   "id": "0e5f81e3-a02a-49d6-bbff-24c0b4da9c53",
   "metadata": {},
   "outputs": [],
   "source": [
    "loader.load_collections(\"maxar-opendata-collection.json\", insert_mode=Methods.upsert)"
   ]
  },
  {
   "cell_type": "code",
   "execution_count": 28,
   "id": "f79572d2-2f90-43c7-b9c8-5ec0a6502417",
   "metadata": {},
   "outputs": [
    {
     "name": "stdout",
     "output_type": "stream",
     "text": [
      "Loading Items from maxar-opendata-20250505T085548.ndjson\n"
     ]
    }
   ],
   "source": [
    "maxar_ndjson_files = sorted(Path(\".\").glob(\"maxar-*.ndjson\"))\n",
    "\n",
    "for maxar_ndjson in maxar_ndjson_files:\n",
    "    print(f\"Loading Items from {maxar_ndjson}\")\n",
    "    loader.load_items(\n",
    "        read_items_from_ndjson(maxar_ndjson, \"maxar-opendata\"),\n",
    "        insert_mode=Methods.insert_ignore,\n",
    "    )"
   ]
  }
 ],
 "metadata": {
  "kernelspec": {
   "display_name": "Python 3 (ipykernel)",
   "language": "python",
   "name": "python3"
  },
  "language_info": {
   "codemirror_mode": {
    "name": "ipython",
    "version": 3
   },
   "file_extension": ".py",
   "mimetype": "text/x-python",
   "name": "python",
   "nbconvert_exporter": "python",
   "pygments_lexer": "ipython3",
   "version": "3.12.7"
  }
 },
 "nbformat": 4,
 "nbformat_minor": 5
}
