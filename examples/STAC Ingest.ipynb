{
 "cells": [
  {
   "cell_type": "markdown",
   "id": "77121587-4f5a-4e0a-8c06-5109594e84d0",
   "metadata": {},
   "source": [
    "# Ingest STAC Into PgSTAC\n",
    "\n",
    "This notebook is an example of using `pypgstac` tools to load STAC Collections and Items produced from the other example notebooks into PgSTAC. Once in PgSTAC these data will be available through the STAC API.\n",
    "\n",
    "This notebook assumes you have defined some environment variables for the PgSTAC database connection. If they are not defined this notebook uses defaults from the [eoAPI](https://github.com/developmentseed/eoapi) Docker Compose setup.\n",
    "\n",
    "The environment variables expected are the [\"standard PG environment variables\"](https://github.com/stac-utils/pgstac/blob/v0.9.6/docs/src/pypgstac.md?plain=1#L42-L48) used by PgSTAC,\n",
    "\n",
    "* `PGHOST`\n",
    "* `PGPORT`\n",
    "* `PGUSER`\n",
    "* `PGDATABASE`\n",
    "* `PGPASSWORD`"
   ]
  },
  {
   "cell_type": "code",
   "execution_count": 1,
   "id": "c19751cc-e409-4175-99f5-e4631064dae4",
   "metadata": {},
   "outputs": [],
   "source": [
    "import json\n",
    "import os\n",
    "from pathlib import Path\n",
    "from typing import Iterator\n",
    "\n",
    "from pypgstac.db import PgstacDB\n",
    "from pypgstac.load import Loader, Methods"
   ]
  },
  {
   "cell_type": "code",
   "execution_count": 2,
   "id": "1251b701-03b4-43e6-8f9c-f6f71b3bad99",
   "metadata": {},
   "outputs": [],
   "source": [
    "dsn = \"postgresql://{username}:{password}@{host}:{port}/{database}\".format(\n",
    "    username=os.getenv(\"PGUSER\", \"username\"),\n",
    "    password=os.getenv(\"PGPASSWORD\", \"password\"),\n",
    "    host=os.getenv(\"PGHOST\", \"localhost\"),\n",
    "    port=os.getenv(\"PGPORT\", 5439),\n",
    "    database=os.getenv(\"PGDATABASE\", \"postgis\"),\n",
    ")"
   ]
  },
  {
   "cell_type": "code",
   "execution_count": 3,
   "id": "445c8b73-e5e1-4b15-a47c-83b2c1b4e941",
   "metadata": {},
   "outputs": [],
   "source": [
    "pgstac = PgstacDB(dsn)\n",
    "loader = Loader(pgstac)"
   ]
  },
  {
   "cell_type": "code",
   "execution_count": 4,
   "id": "8d59b759-acfb-4810-8fa2-ab68e7aaecae",
   "metadata": {},
   "outputs": [],
   "source": [
    "def read_items_from_ndjson(\n",
    "    ndjson: Path,\n",
    "    collection_id: str,\n",
    ") -> Iterator[dict]:\n",
    "    \"\"\"Read STAC Items from a NDJSON file for a particular Collection.\"\"\"\n",
    "    with ndjson.open() as src:\n",
    "        for line in src:\n",
    "            item = json.loads(line)\n",
    "            item[\"collection\"] = collection_id\n",
    "            yield item"
   ]
  },
  {
   "cell_type": "markdown",
   "id": "82f48902-76cf-4292-93f0-3676baf350c5",
   "metadata": {},
   "source": [
    "## OpenAerialMap Collection"
   ]
  },
  {
   "cell_type": "code",
   "execution_count": 5,
   "id": "9db8003f-4b22-43cf-9c39-f6b0a1ac4b79",
   "metadata": {},
   "outputs": [],
   "source": [
    "loader.load_collections(\"openaerialmap-collection.json\", insert_mode=Methods.upsert)"
   ]
  },
  {
   "cell_type": "code",
   "execution_count": 6,
   "id": "3d292846-f0e3-4e20-b963-e814486a1167",
   "metadata": {},
   "outputs": [
    {
     "name": "stdout",
     "output_type": "stream",
     "text": [
      "Loading Items from openaerialmap-20250501T142120.ndjson\n"
     ]
    }
   ],
   "source": [
    "oam_ndjson = sorted(Path(\".\").glob(\"openaerialmap-*.ndjson\"))[-1]\n",
    "print(f\"Loading Items from {oam_ndjson}\")\n",
    "loader.load_items(\n",
    "    read_items_from_ndjson(oam_ndjson, \"openaerialmap\"),\n",
    "    insert_mode=Methods.insert_ignore,\n",
    ")"
   ]
  },
  {
   "cell_type": "markdown",
   "id": "7d242ba8-c124-43e0-a45e-14ca2e9a2dca",
   "metadata": {},
   "source": [
    "## Maxar for OAM Collection"
   ]
  },
  {
   "cell_type": "code",
   "execution_count": 7,
   "id": "0e5f81e3-a02a-49d6-bbff-24c0b4da9c53",
   "metadata": {},
   "outputs": [],
   "source": [
    "loader.load_collections(\"maxar-opendata-collection.json\", insert_mode=Methods.upsert)"
   ]
  },
  {
   "cell_type": "code",
   "execution_count": 8,
   "id": "f79572d2-2f90-43c7-b9c8-5ec0a6502417",
   "metadata": {},
   "outputs": [
    {
     "name": "stdout",
     "output_type": "stream",
     "text": [
      "Loading Items from maxar-opendata-20250501T141434.ndjson\n"
     ]
    }
   ],
   "source": [
    "maxar_ndjson = sorted(Path(\".\").glob(\"maxar-*.ndjson\"))[-1]\n",
    "print(f\"Loading Items from {maxar_ndjson}\")\n",
    "loader.load_items(\n",
    "    read_items_from_ndjson(maxar_ndjson, \"maxar-opendata\"),\n",
    "    insert_mode=Methods.insert_ignore,\n",
    ")"
   ]
  }
 ],
 "metadata": {
  "kernelspec": {
   "display_name": "Python 3 (ipykernel)",
   "language": "python",
   "name": "python3"
  },
  "language_info": {
   "codemirror_mode": {
    "name": "ipython",
    "version": 3
   },
   "file_extension": ".py",
   "mimetype": "text/x-python",
   "name": "python",
   "nbconvert_exporter": "python",
   "pygments_lexer": "ipython3",
   "version": "3.12.7"
  }
 },
 "nbformat": 4,
 "nbformat_minor": 5
}
